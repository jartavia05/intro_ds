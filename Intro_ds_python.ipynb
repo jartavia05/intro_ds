{
  "nbformat": 4,
  "nbformat_minor": 0,
  "metadata": {
    "colab": {
      "provenance": [],
      "authorship_tag": "ABX9TyMCsIBQXfCEp6ITwJsxoCsN",
      "include_colab_link": true
    },
    "kernelspec": {
      "name": "python3",
      "display_name": "Python 3"
    },
    "language_info": {
      "name": "python"
    }
  },
  "cells": [
    {
      "cell_type": "markdown",
      "metadata": {
        "id": "view-in-github",
        "colab_type": "text"
      },
      "source": [
        "<a href=\"https://colab.research.google.com/github/jartavia05/intro_ds/blob/master/Intro_ds_python.ipynb\" target=\"_parent\"><img src=\"https://colab.research.google.com/assets/colab-badge.svg\" alt=\"Open In Colab\"/></a>"
      ]
    },
    {
      "cell_type": "code",
      "execution_count": 40,
      "metadata": {
        "id": "Ej1KlNIiVGxv",
        "outputId": "f2b9f665-c9a0-4dfc-ad9a-bcc71b9bc147",
        "colab": {
          "base_uri": "https://localhost:8080/"
        }
      },
      "outputs": [
        {
          "output_type": "stream",
          "name": "stdout",
          "text": [
            "this is the original data_matrix: (5, 4)\n",
            "\n",
            "(5, 3)\n"
          ]
        }
      ],
      "source": [
        "import pandas as pd\n",
        "\n",
        "data_matrix = pd.read_csv(\"/content/dataset_knn_regression.csv\")\n",
        "X = data_matrix.iloc[:,0:3]\n",
        "print(\"this is the original data_matrix: {}\\n\".format(data_matrix.shape))\n",
        "print(X.shape)"
      ]
    }
  ]
}