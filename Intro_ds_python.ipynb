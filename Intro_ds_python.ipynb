{
  "nbformat": 4,
  "nbformat_minor": 0,
  "metadata": {
    "colab": {
      "provenance": [],
      "authorship_tag": "ABX9TyMzuAyuKESmJhjllJLdH5gT",
      "include_colab_link": true
    },
    "kernelspec": {
      "name": "python3",
      "display_name": "Python 3"
    },
    "language_info": {
      "name": "python"
    }
  },
  "cells": [
    {
      "cell_type": "markdown",
      "metadata": {
        "id": "view-in-github",
        "colab_type": "text"
      },
      "source": [
        "<a href=\"https://colab.research.google.com/github/jartavia05/intro_ds/blob/master/Intro_ds_python.ipynb\" target=\"_parent\"><img src=\"https://colab.research.google.com/assets/colab-badge.svg\" alt=\"Open In Colab\"/></a>"
      ]
    },
    {
      "cell_type": "code",
      "execution_count": 65,
      "metadata": {
        "id": "Ej1KlNIiVGxv",
        "colab": {
          "base_uri": "https://localhost:8080/"
        },
        "outputId": "9d62f964-e98f-4acc-93cb-0a68c52d164c"
      },
      "outputs": [
        {
          "output_type": "stream",
          "name": "stdout",
          "text": [
            "this is the original data_matrix: (5, 4)\n",
            "\n",
            "(5,)\n",
            "0    230.1\n",
            "1     44.5\n",
            "2     17.2\n",
            "3    151.5\n",
            "4    180.8\n",
            "Name: TV, dtype: float64\n"
          ]
        }
      ],
      "source": [
        "import pandas as pd\n",
        "import matplotlib.pyplot as plt\n",
        "\n",
        "data_matrix = pd.read_csv(\"/content/dataset_knn_regression.csv\")\n",
        "X = data_matrix.iloc[:,0:3]\n",
        "print(\"this is the original data_matrix: {}\\n\".format(data_matrix.shape))\n",
        "print(X[\"TV\"].shape)\n",
        "print(X[\"TV\"])"
      ]
    },
    {
      "cell_type": "code",
      "source": [
        "# Data Types to be use with sklearn\n",
        "print(\"Pandas data frame object that is an array we can use in sklearn: {}\".format(type(X[[\"TV\"]])))\n",
        "print(\"Pandas series that will give an error when using sklearn: {}\".format(type(X[\"TV\"])))\n",
        "\n"
      ],
      "metadata": {
        "colab": {
          "base_uri": "https://localhost:8080/"
        },
        "id": "nkYvzAIfy-o_",
        "outputId": "37c3fd35-0947-477f-e8d9-f2dbc66e28fd"
      },
      "execution_count": 51,
      "outputs": [
        {
          "output_type": "stream",
          "name": "stdout",
          "text": [
            "Pandas data frame object that is an array we can use in sklearn: <class 'pandas.core.frame.DataFrame'>\n",
            "Pandas series that will give an error when using sklearn: <class 'pandas.core.series.Series'>\n"
          ]
        }
      ]
    },
    {
      "cell_type": "code",
      "source": [
        "# Plot of the sales in thousands of units versus the TV budget in thousands of dollars \n",
        "\n",
        "plt.style.use('_mpl-gallery')\n",
        "ax = X[[\"TV\"]].plot(kind='scatter', x=0, y=0)\n",
        "plt.show()"
      ],
      "metadata": {
        "colab": {
          "base_uri": "https://localhost:8080/",
          "height": 271
        },
        "id": "5g-g0lzj39bH",
        "outputId": "601b81f9-06d6-4d18-f538-ff094bcf98c3"
      },
      "execution_count": 68,
      "outputs": [
        {
          "output_type": "display_data",
          "data": {
            "text/plain": [
              "<Figure size 200x200 with 1 Axes>"
            ],
            "image/png": "[encoded data removed]"
          },
          "metadata": {}
        }
      ]
    }
  ]
}